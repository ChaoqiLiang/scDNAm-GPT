{
 "cells": [
  {
   "cell_type": "markdown",
   "id": "709a3ec5",
   "metadata": {},
   "source": [
    "# Step 1: Load Data"
   ]
  },
  {
   "cell_type": "code",
   "execution_count": 1,
   "id": "4507c192",
   "metadata": {},
   "outputs": [
    {
     "name": "stderr",
     "output_type": "stream",
     "text": [
      "Loading all data: 100%|██████████| 167/167 [00:00<00:00, 219.69it/s]"
     ]
    },
    {
     "name": "stdout",
     "output_type": "stream",
     "text": [
      "✅ Loaded 167 samples.\n",
      "🔹 Example methy shape: (55572,)\n",
      "🔹 Example chrs shape: (55572,)\n",
      "🔹 Example positions shape: (55572,)\n",
      "🔹 Example methy_input_ids shape: (55572,)\n",
      "🔹 Example unmethy_input_ids shape: (55572,)\n",
      "🔹 Example file name: GSM2697566_scTrioSeq2Met_CRC01_ML4_142.singleC.npz\n",
      "🔹 Example celltype: ML\n",
      "🔹 Example expression: 0.4205979406833648\n"
     ]
    },
    {
     "name": "stderr",
     "output_type": "stream",
     "text": [
      "\n"
     ]
    }
   ],
   "source": [
    "import numpy as np\n",
    "import pandas as pd\n",
    "from pathlib import Path\n",
    "from multiprocessing.dummy import Pool\n",
    "from tqdm import tqdm\n",
    "import ast\n",
    "\n",
    "# === Setting the path (±200k bp CpGs around MALAT1 for demo) ===\n",
    "base_dir = Path(\"CpGs_around_MALAT1\")\n",
    "csv_path = base_dir / \"data/CpGs_around_MALAT1.csv\"\n",
    "methy_dir = base_dir / \"data/methy_ratios\"\n",
    "chr_dir = base_dir / \"data/chrs\"\n",
    "pos_dir = base_dir / \"data/positions\"\n",
    "methy_token_dir = base_dir / \"data/methy_input_ids\"\n",
    "unmethy_token_dir = base_dir / \"data/unmethy_input_ids\"\n",
    "\n",
    "# === Get file_name list ===\n",
    "df = pd.read_csv(csv_path)\n",
    "df[\"celltype_abbr\"] = df[\"celltype_name\"].str[:2]\n",
    "\n",
    "# === Single sample processing function ===\n",
    "def process_one_file(index):\n",
    "    file_name = df[\"file_name\"][index]\n",
    "    celltype = df[\"celltype_abbr\"][index]\n",
    "    actual_exp = df[\"actual\"][index]\n",
    "    try:\n",
    "        methy = np.load(methy_dir / file_name)[\"data\"]\n",
    "        chrs = np.load(chr_dir / file_name)[\"data\"]\n",
    "        positions = np.load(pos_dir / file_name)[\"data\"]\n",
    "        methy_input_ids = np.load(methy_token_dir / file_name)[\"data\"]\n",
    "        unmethy_input_ids = np.load(unmethy_token_dir / file_name)[\"data\"]\n",
    "        return methy, chrs, positions, methy_input_ids, unmethy_input_ids, file_name, celltype, actual_exp\n",
    "    except Exception as e:\n",
    "        print(f\"[ERROR] {file_name}: {e}\")\n",
    "        return None\n",
    "\n",
    "# === Read all samples in parallel ===\n",
    "methy_list = []\n",
    "chrs_list = []\n",
    "positions_list = []\n",
    "methy_input_ids_list = []\n",
    "unmethy_input_ids_list = []\n",
    "file_names = []\n",
    "celltypes = []\n",
    "actual_exps = []\n",
    "\n",
    "with Pool(32) as pool:\n",
    "    for result in tqdm(pool.imap_unordered(process_one_file, range(len(df))), total=len(df), desc=\"Loading all data\"):\n",
    "        if result is not None:\n",
    "            methy, chrs, positions, methy_input_ids, unmethy_input_ids, fname, celltype, actual_exp = result\n",
    "            methy_list.append(methy)\n",
    "            chrs_list.append(chrs)\n",
    "            positions_list.append(positions)\n",
    "            methy_input_ids_list.append(methy_input_ids)\n",
    "            unmethy_input_ids_list.append(unmethy_input_ids)\n",
    "            file_names.append(fname)\n",
    "            celltypes.append(celltype)\n",
    "            actual_exps.append(actual_exp)\n",
    "\n",
    "# === Output check ===\n",
    "print(f\"✅ Loaded {len(methy_list)} samples.\")\n",
    "print(f\"🔹 Example methy shape: {methy_list[0].shape}\")\n",
    "print(f\"🔹 Example chrs shape: {chrs_list[0].shape}\")\n",
    "print(f\"🔹 Example positions shape: {positions_list[0].shape}\")\n",
    "print(f\"🔹 Example methy_input_ids shape: {methy_input_ids_list[0].shape}\")\n",
    "print(f\"🔹 Example unmethy_input_ids shape: {unmethy_input_ids_list[0].shape}\")\n",
    "print(f\"🔹 Example file name: {file_names[0]}\")\n",
    "print(f\"🔹 Example celltype: {celltypes[0]}\")\n",
    "print(f\"🔹 Example expression: {actual_exps[0]}\")"
   ]
  },
  {
   "cell_type": "markdown",
   "id": "992eca99",
   "metadata": {},
   "source": [
    "# Step2: Load Model"
   ]
  },
  {
   "cell_type": "code",
   "execution_count": 2,
   "id": "231d6b5e",
   "metadata": {},
   "outputs": [
    {
     "name": "stdout",
     "output_type": "stream",
     "text": [
      "------------------------------------------\n",
      "Shape of lm_head.weight:  torch.Size([520, 128]) \n",
      "------------------------------------------\n",
      "[Missing keys]:\n",
      "  - lm_head.weight\n"
     ]
    },
    {
     "data": {
      "text/plain": [
       "scDNAmGPTForPredictscRNAseq(\n",
       "  (backbone): scDNAmMixerModel(\n",
       "    (embedding): Embedding(520, 128)\n",
       "    (layers): ModuleList(\n",
       "      (0-7): 8 x Block(\n",
       "        (norm): RMSNorm()\n",
       "        (mixer): Mamba(\n",
       "          (in_proj): Linear(in_features=128, out_features=512, bias=False)\n",
       "          (conv1d): Conv1d(256, 256, kernel_size=(4,), stride=(1,), padding=(3,), groups=256)\n",
       "          (act): SiLU()\n",
       "          (x_proj): Linear(in_features=256, out_features=40, bias=False)\n",
       "          (dt_proj): Linear(in_features=8, out_features=256, bias=True)\n",
       "          (out_proj): Linear(in_features=256, out_features=128, bias=False)\n",
       "        )\n",
       "      )\n",
       "    )\n",
       "    (norm_f): RMSNorm()\n",
       "  )\n",
       "  (lm_head): Linear(in_features=128, out_features=520, bias=False)\n",
       "  (query_proj): Linear(in_features=128, out_features=128, bias=True)\n",
       "  (key_proj): Linear(in_features=128, out_features=128, bias=True)\n",
       "  (value_proj): Linear(in_features=128, out_features=128, bias=True)\n",
       "  (attention): MultiheadAttention(\n",
       "    (out_proj): NonDynamicallyQuantizableLinear(in_features=128, out_features=128, bias=True)\n",
       "  )\n",
       "  (dropout): Dropout(p=0.1, inplace=False)\n",
       "  (norm): LayerNorm((128,), eps=1e-05, elementwise_affine=True)\n",
       "  (classify): Linear(in_features=128, out_features=1, bias=True)\n",
       ")"
      ]
     },
     "execution_count": 2,
     "metadata": {},
     "output_type": "execute_result"
    }
   ],
   "source": [
    "import sys\n",
    "import os\n",
    "from transformers import AutoTokenizer\n",
    "from pathlib import Path\n",
    "\n",
    "# Add the parent directory to sys.path\n",
    "sys.path.append(os.path.abspath(os.path.join(os.getcwd(), '..')))\n",
    "from src.dataset.scdnam_dataset import TokensRatiosDataset, scDNAm_collate_TokensRatios\n",
    "from src.model.scdnam_gpt import scDNAmGPTForPredictscRNAseq\n",
    "\n",
    "tokenizer = AutoTokenizer.from_pretrained(f\"../src/tokenizers/scdnam_6mer\", trust_remote_code=True)\n",
    "\n",
    "# Initialize model\n",
    "model = scDNAmGPTForPredictscRNAseq.from_pretrained(\n",
    "    tokenizer=tokenizer,\n",
    "    pretrained_model_name=\"CpGs_around_MALAT1/model\",\n",
    "    device=\"cuda:0\",\n",
    "    num_labels=1,\n",
    "    attention_mechanism={\n",
    "        \"projection_dim\": 128,\n",
    "        \"attention_num_heads\": 8,\n",
    "        \"dropout_rate\": 0.1\n",
    "    }\n",
    ")\n",
    "\n",
    "# Move model to device\n",
    "device = \"cuda:0\"\n",
    "model.to(device)  \n",
    "model.eval() "
   ]
  },
  {
   "cell_type": "markdown",
   "id": "0b082700",
   "metadata": {},
   "source": [
    "# Step 3: Inference"
   ]
  },
  {
   "cell_type": "code",
   "execution_count": 4,
   "id": "4a50d89b",
   "metadata": {},
   "outputs": [
    {
     "name": "stderr",
     "output_type": "stream",
     "text": [
      "Analyzing Samples: 100%|██████████| 167/167 [00:09<00:00, 18.05it/s]\n"
     ]
    }
   ],
   "source": [
    "import torch\n",
    "import numpy as np\n",
    "import pandas as pd\n",
    "\n",
    "model.to(dtype=torch.float16, device=device)\n",
    "base_tensor = torch.tensor(methy, dtype=torch.float16, device=device)\n",
    "target_label_idx = 0\n",
    "\n",
    "def get_model_prob(methy_tensor, sample):\n",
    "    \"\"\"Compute model prediction probability for a given methylation tensor.\"\"\"\n",
    "    with torch.no_grad(), torch.amp.autocast(device_type=\"cuda\", dtype=torch.float16):\n",
    "        outputs = model(\n",
    "            unmethy_input_ids=torch.tensor(unmethy_input_ids_list[sample], dtype=torch.long, device=device).unsqueeze(0),\n",
    "            methy_input_ids=torch.tensor(methy_input_ids_list[sample], dtype=torch.long, device=device).unsqueeze(0),\n",
    "            methy_ratios=methy_tensor.unsqueeze(0).to(dtype=torch.float16),\n",
    "            labels=None,\n",
    "            return_dict=True\n",
    "        )\n",
    "        return outputs[\"predicted_probs\"][0][target_label_idx].item()\n",
    "\n",
    "num_samples = len(methy_list)\n",
    "predictions = []\n",
    "\n",
    "\n",
    "for sample in tqdm(range(num_samples), desc=\"Analyzing Samples\"):\n",
    "    methy = methy_list[sample].copy()\n",
    "    base_tensor = torch.tensor(methy, dtype=torch.float16, device=device)\n",
    "    prediction = get_model_prob(base_tensor, sample)\n",
    "    predictions.append(prediction)\n",
    "\n",
    "df[\"predicted\"] = predictions"
   ]
  },
  {
   "cell_type": "code",
   "execution_count": 5,
   "id": "58824beb",
   "metadata": {},
   "outputs": [
    {
     "name": "stderr",
     "output_type": "stream",
     "text": [
      "/tmp/ipykernel_3180/778902407.py:30: MatplotlibDeprecationWarning: The get_cmap function was deprecated in Matplotlib 3.7 and will be removed in 3.11. Use ``matplotlib.colormaps[name]`` or ``matplotlib.colormaps.get_cmap()`` or ``pyplot.get_cmap()`` instead.\n",
      "  cmap = cm.get_cmap('tab20', len(celltype_order))\n"
     ]
    },
    {
     "data": {
      "image/png": "[encoded data removed]",
      "text/plain": [
       "<Figure size 600x450 with 1 Axes>"
      ]
     },
     "metadata": {},
     "output_type": "display_data"
    }
   ],
   "source": [
    "import numpy as np\n",
    "import matplotlib.pyplot as plt\n",
    "import matplotlib.cm as cm\n",
    "from scipy.stats import pearsonr\n",
    "import matplotlib as mpl\n",
    "\n",
    "# ======== Global plotting settings ========\n",
    "mpl.rcParams.update({\n",
    "    'font.size': 10,\n",
    "    'axes.linewidth': 1,\n",
    "    'xtick.major.width': 1,\n",
    "    'ytick.major.width': 1,\n",
    "    'legend.frameon': False,\n",
    "    'xtick.direction': 'out',\n",
    "    'ytick.direction': 'out',\n",
    "    'pdf.fonttype': 42,  # embed text in PDF\n",
    "    'ps.fonttype': 42\n",
    "})\n",
    "\n",
    "def set_dark_border(ax):\n",
    "    \"\"\"Add dark border around the axes\"\"\"\n",
    "    for spine in ax.spines.values():\n",
    "        spine.set_color(\"black\")\n",
    "        spine.set_linewidth(1.0)\n",
    "\n",
    "# === Define cell type order (for consistent color & legend order) ===\n",
    "celltype_order = [\"MP\", \"ML\", \"LN\", \"PT\"]\n",
    "\n",
    "# === Define color map ===\n",
    "cmap = cm.get_cmap('tab20', len(celltype_order))\n",
    "color_map = {ct: cmap(i) for i, ct in enumerate(celltype_order)}\n",
    "\n",
    "# === Compute Pearson correlation coefficient ===\n",
    "r, _ = pearsonr(actual_exps, predictions)\n",
    "\n",
    "# === Create figure ===\n",
    "fig, ax = plt.subplots(figsize=(6, 4.5))\n",
    "\n",
    "# === Scatter plot by cell type ===\n",
    "for ct in celltype_order:\n",
    "    mask = np.array(celltypes) == ct\n",
    "    ax.scatter(\n",
    "        np.array(actual_exps)[mask],\n",
    "        np.array(predictions)[mask],\n",
    "        s=15,\n",
    "        alpha=0.7,\n",
    "        color=color_map[ct],\n",
    "        label=ct\n",
    "    )\n",
    "\n",
    "# === Global linear fit line ===\n",
    "fit = np.polyfit(actual_exps, predictions, deg=1)\n",
    "line_x = np.linspace(min(actual_exps), max(actual_exps), 100)\n",
    "line_y = np.polyval(fit, line_x)\n",
    "ax.plot(line_x, line_y, color='black', linewidth=1.2)\n",
    "\n",
    "# === Display Pearson r value ===\n",
    "ax.text(0.05, 0.95, f\"$r$ = {r:.2f}\", transform=ax.transAxes,\n",
    "        fontsize=10, va='top')\n",
    "\n",
    "# === Axis labels, title, and aesthetics ===\n",
    "ax.set_xlabel(\"Actual expression\", fontsize=12)\n",
    "ax.set_ylabel(\"Predicted expression\", fontsize=12)\n",
    "ax.set_title(\"Gene MALAT1 expression prediction\", fontsize=13, pad=10)\n",
    "ax.tick_params(length=4, width=1)\n",
    "ax.grid(False)\n",
    "\n",
    "# === Legend (fixed order & color mapping) ===\n",
    "handles = [\n",
    "    plt.Line2D([0], [0], marker='o', color='w', label=ct,\n",
    "               markerfacecolor=color_map[ct], markersize=5)\n",
    "    for ct in celltype_order\n",
    "]\n",
    "ax.legend(handles=handles, title=\"Cell types\",\n",
    "          bbox_to_anchor=(1.02, 1), loc='upper left',\n",
    "          title_fontsize=12, fontsize=11)\n",
    "\n",
    "# === Apply dark border ===\n",
    "set_dark_border(ax)\n",
    "fig.tight_layout()\n",
    "\n",
    "plt.show()\n"
   ]
  },
  {
   "cell_type": "code",
   "execution_count": null,
   "id": "9069093a",
   "metadata": {},
   "outputs": [],
   "source": []
  }
 ],
 "metadata": {
  "kernelspec": {
   "display_name": "scDNAm_GPT",
   "language": "python",
   "name": "python3"
  },
  "language_info": {
   "codemirror_mode": {
    "name": "ipython",
    "version": 3
   },
   "file_extension": ".py",
   "mimetype": "text/x-python",
   "name": "python",
   "nbconvert_exporter": "python",
   "pygments_lexer": "ipython3",
   "version": "3.10.18"
  }
 },
 "nbformat": 4,
 "nbformat_minor": 5
}
