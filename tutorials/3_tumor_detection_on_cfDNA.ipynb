{
 "cells": [
  {
   "cell_type": "markdown",
   "id": "f4286776",
   "metadata": {},
   "source": [
    "# Step 1: Load Data"
   ]
  },
  {
   "cell_type": "code",
   "execution_count": 1,
   "id": "33705638",
   "metadata": {},
   "outputs": [
    {
     "name": "stderr",
     "output_type": "stream",
     "text": [
      "/mnt/shared-storage-user/ma4agi-gpu/liangchaoqi/miniconda3/envs/scDNAm_GPT/lib/python3.10/site-packages/tqdm/auto.py:21: TqdmWarning: IProgress not found. Please update jupyter and ipywidgets. See https://ipywidgets.readthedocs.io/en/stable/user_install.html\n",
      "  from .autonotebook import tqdm as notebook_tqdm\n"
     ]
    }
   ],
   "source": [
    "import sys\n",
    "import os\n",
    "from transformers import AutoTokenizer\n",
    "from pathlib import Path\n",
    "\n",
    "# Add the parent directory to sys.path\n",
    "sys.path.append(os.path.abspath(os.path.join(os.getcwd(), '..')))\n",
    "from src.dataset.scdnam_dataset import TokensRatiosDataset, scDNAm_collate_TokensRatios\n",
    "\n",
    "tokenizer = AutoTokenizer.from_pretrained(f\"../src/tokenizers/scdnam_6mer\", trust_remote_code=True)\n",
    "tumor_data = {}\n",
    "tumor_data[\"tissue_test\"] = TokensRatiosDataset(\n",
    "    csv_file=\"tumor_detection/tissue_test_data/tissue.csv\",\n",
    "    root_path=\"tumor_detection/tissue_test_data/scWGBS_with_nucleotide_change_10mer_tokens_npz\",\n",
    "    K_mer=\"6mer\", tokenizer=tokenizer, type_json_path=\"tumor_detection/tissue_test_data/tissue_type.json\",\n",
    "    need_labels=True,\n",
    "    need_analysis=True,\n",
    "    max_length = 20_000_000,  # Set to 12M (almost covered) CpGs for quick testing. A100 (80GB) handles 10M, H200 handles 20M. \n",
    "    random=False,\n",
    "    use_sample=False,\n",
    "    use_truncation=False,\n",
    "    start_idx=0,\n",
    "    selective_chrs=[1,2,3,4,5,6,7,8,9,10,11,12,13,14,15,16,17,18,19,20,21,22],\n",
    ")\n",
    "tumor_data[\"cfDNA\"] = TokensRatiosDataset(\n",
    "    csv_file=\"tumor_detection/cfDNA_data/cfDNA.csv\",\n",
    "    root_path=\"tumor_detection/cfDNA_data/scWGBS_with_nucleotide_change_10mer_tokens_npz\",\n",
    "    K_mer=\"6mer\", tokenizer=tokenizer, type_json_path=\"tumor_detection/cfDNA_data/cfDNA_type.json\",\n",
    "    need_labels=True,\n",
    "    need_analysis=True,\n",
    "    max_length = 20_000_000,  # Set to 12M (almost covered) CpGs for quick testing. A100 (80GB) handles 10M, H200 handles 20M. \n",
    "    random=False,\n",
    "    use_sample=False,\n",
    "    use_truncation=False,\n",
    "    start_idx=0,\n",
    "    selective_chrs=[1,2,3,4,5,6,7,8,9,10,11,12,13,14,15,16,17,18,19,20,21,22],\n",
    ")\n",
    "data_collator = scDNAm_collate_TokensRatios(tokenizer=tokenizer)\n",
    "\n",
    "output_dir = Path(\"output_dir\")\n",
    "output_dir.mkdir(parents=True, exist_ok=True)"
   ]
  },
  {
   "cell_type": "code",
   "execution_count": 2,
   "id": "67f4fb4e",
   "metadata": {},
   "outputs": [
    {
     "data": {
      "text/plain": [
       "{'unmethy_input_ids': array([  0,  11, 219, ..., 361, 141,   2]),\n",
       " 'methy_input_ids': array([  0,  12, 220, ..., 362, 142,   2]),\n",
       " 'methy_ratios': array([1., 0., 0., ..., 1., 1., 1.]),\n",
       " 'positions': array([       0,    10609,    10617, ..., 51223989, 51223997,        0]),\n",
       " 'chrs': array([ 0,  1,  1, ..., 22, 22,  0]),\n",
       " 'file_names': 'GSM2697728_scTrioSeq2Met_CRC01_PT1_285.singleC.npz',\n",
       " 'labels': 1}"
      ]
     },
     "execution_count": 2,
     "metadata": {},
     "output_type": "execute_result"
    }
   ],
   "source": [
    "tumor_data[\"tissue_test\"][0]"
   ]
  },
  {
   "cell_type": "code",
   "execution_count": 3,
   "id": "d56251f5",
   "metadata": {},
   "outputs": [
    {
     "data": {
      "text/plain": [
       "{'unmethy_input_ids': array([  0,  11, 469, ..., 463, 177,   2]),\n",
       " 'methy_input_ids': array([  0,  12, 470, ..., 464, 178,   2]),\n",
       " 'methy_ratios': array([1.        , 0.72727275, 0.69999999, ..., 0.        , 0.        ,\n",
       "        1.        ]),\n",
       " 'positions': array([       0,    69486,    69495, ..., 51222384, 51222391,        0]),\n",
       " 'chrs': array([ 0,  1,  1, ..., 22, 22,  0]),\n",
       " 'file_names': 'GSM4502273_KRp2-18_bsmap_meth.npz',\n",
       " 'labels': 5}"
      ]
     },
     "execution_count": 3,
     "metadata": {},
     "output_type": "execute_result"
    }
   ],
   "source": [
    "tumor_data[\"cfDNA\"][0]"
   ]
  },
  {
   "cell_type": "markdown",
   "id": "aa7b885f",
   "metadata": {},
   "source": [
    "# Step 2: Load Model"
   ]
  },
  {
   "cell_type": "code",
   "execution_count": 4,
   "id": "7b07a9aa",
   "metadata": {},
   "outputs": [
    {
     "name": "stdout",
     "output_type": "stream",
     "text": [
      "------------------------------------------\n",
      "Shape of lm_head.weight:  torch.Size([520, 128]) \n",
      "------------------------------------------\n",
      "[Missing keys]:\n",
      "  - lm_head.weight\n"
     ]
    },
    {
     "data": {
      "text/plain": [
       "scDNAmGPTForAnalysis(\n",
       "  (backbone): scDNAmMixerModel(\n",
       "    (embedding): Embedding(520, 128)\n",
       "    (layers): ModuleList(\n",
       "      (0-7): 8 x Block(\n",
       "        (norm): RMSNorm()\n",
       "        (mixer): Mamba(\n",
       "          (in_proj): Linear(in_features=128, out_features=512, bias=False)\n",
       "          (conv1d): Conv1d(256, 256, kernel_size=(4,), stride=(1,), padding=(3,), groups=256)\n",
       "          (act): SiLU()\n",
       "          (x_proj): Linear(in_features=256, out_features=40, bias=False)\n",
       "          (dt_proj): Linear(in_features=8, out_features=256, bias=True)\n",
       "          (out_proj): Linear(in_features=256, out_features=128, bias=False)\n",
       "        )\n",
       "      )\n",
       "    )\n",
       "    (norm_f): RMSNorm()\n",
       "  )\n",
       "  (lm_head): Linear(in_features=128, out_features=520, bias=False)\n",
       "  (query_proj): Linear(in_features=128, out_features=256, bias=True)\n",
       "  (key_proj): Linear(in_features=128, out_features=256, bias=True)\n",
       "  (value_proj): Linear(in_features=128, out_features=256, bias=True)\n",
       "  (attention): MultiheadAttention(\n",
       "    (out_proj): NonDynamicallyQuantizableLinear(in_features=256, out_features=256, bias=True)\n",
       "  )\n",
       "  (dropout): Dropout(p=0.1, inplace=False)\n",
       "  (norm): LayerNorm((256,), eps=1e-05, elementwise_affine=True)\n",
       "  (classify): Linear(in_features=256, out_features=2, bias=True)\n",
       ")"
      ]
     },
     "execution_count": 4,
     "metadata": {},
     "output_type": "execute_result"
    }
   ],
   "source": [
    "from inference.inference import scDNAmGPTForAnalysis\n",
    "\n",
    "model = scDNAmGPTForAnalysis.from_pretrained(\n",
    "    tokenizer=tokenizer,\n",
    "    pretrained_model_name=\"tumor_detection/model\",\n",
    "    num_labels=tumor_data[\"tissue_test\"].num_labels,\n",
    "    attention_mechanism={\n",
    "      \"projection_dim\": 256,\n",
    "      \"attention_num_heads\": 8,\n",
    "      \"dropout_rate\": 0.1}\n",
    ")\n",
    "\n",
    "# Move model to device\n",
    "device = \"cuda:0\"\n",
    "model.to(device)  \n",
    "model.eval() "
   ]
  },
  {
   "cell_type": "markdown",
   "id": "971b14fc",
   "metadata": {},
   "source": [
    "# Step 3: Inference"
   ]
  },
  {
   "cell_type": "code",
   "execution_count": 5,
   "id": "258e406c",
   "metadata": {},
   "outputs": [
    {
     "name": "stderr",
     "output_type": "stream",
     "text": [
      "/mnt/shared-storage-user/ma4agi-gpu/liangchaoqi/scDNAm-GPT/inference/inference.py:308: FutureWarning: `torch.cuda.amp.autocast(args...)` is deprecated. Please use `torch.amp.autocast('cuda', args...)` instead.\n",
      "  with torch.cuda.amp.autocast(), torch.no_grad():\n"
     ]
    },
    {
     "name": "stdout",
     "output_type": "stream",
     "text": [
      "Running inference on tissue_test dataset...\n"
     ]
    },
    {
     "name": "stderr",
     "output_type": "stream",
     "text": [
      "Inferencing: 100%|████████████████████| 59/59 [01:46<00:00,  1.80s/batch, current_samples=1/59, latest_file=GSM3153402...]\n",
      "/mnt/shared-storage-user/ma4agi-gpu/liangchaoqi/scDNAm-GPT/inference/inference.py:308: FutureWarning: `torch.cuda.amp.autocast(args...)` is deprecated. Please use `torch.amp.autocast('cuda', args...)` instead.\n",
      "  with torch.cuda.amp.autocast(), torch.no_grad():\n"
     ]
    },
    {
     "name": "stdout",
     "output_type": "stream",
     "text": [
      "Running inference on cfDNA dataset...\n"
     ]
    },
    {
     "name": "stderr",
     "output_type": "stream",
     "text": [
      "Inferencing: 100%|████████████████████| 54/54 [00:19<00:00,  2.73batch/s, current_samples=1/54, latest_file=GSM4502320...]\n"
     ]
    }
   ],
   "source": [
    "from inference.inference import run_inference_on_dataset\n",
    "\n",
    "for dataset_name, dataset in tumor_data.items():\n",
    "    print(f\"Running inference on {dataset_name} dataset...\")\n",
    "    run_inference_on_dataset(\n",
    "        model, dataset, tokenizer, data_collator, \n",
    "        device, output_dir, dataset_name, \n",
    "        batch_size=1\n",
    "    )"
   ]
  },
  {
   "cell_type": "markdown",
   "id": "698c7a0c",
   "metadata": {},
   "source": [
    "# Step 4: Embeddings"
   ]
  },
  {
   "cell_type": "code",
   "execution_count": 9,
   "id": "8ce7ac11",
   "metadata": {},
   "outputs": [
    {
     "name": "stdout",
     "output_type": "stream",
     "text": [
      "AnnData: 59 cells × 256 features (skipped 0 missing/corrupted files)\n"
     ]
    },
    {
     "name": "stderr",
     "output_type": "stream",
     "text": [
      "/mnt/shared-storage-user/ma4agi-gpu/liangchaoqi/miniconda3/envs/scDNAm_GPT/lib/python3.10/site-packages/anndata/_core/aligned_df.py:68: ImplicitModificationWarning: Transforming to str index.\n",
      "  warnings.warn(\"Transforming to str index.\", ImplicitModificationWarning)\n"
     ]
    }
   ],
   "source": [
    "# === Minimal version: CSV -> array loading -> AnnData ===\n",
    "import os\n",
    "import numpy as np\n",
    "import pandas as pd\n",
    "import scipy.sparse as sp\n",
    "import anndata as ad\n",
    "\n",
    "\n",
    "# ---------- Config ----------\n",
    "CSV_PATH  = \"output_dir/tissue_test/tissue_test_inference_results.csv\"\n",
    "DATA_DIR  = \"output_dir/tissue_test/norm_attn_outputs\"\n",
    "FILTER_MATCHED = False  # If CSV has 'predictions' and you only want rows where labels==predictions, set True\n",
    "\n",
    "# Numeric label -> text label\n",
    "LABEL_MAP = {0: \"Colorectal Normal Cell\", 1: \"Colorectal Tumor Cell\"}\n",
    "\n",
    "# ---------- Utilities ----------\n",
    "def load_array(path: str):\n",
    "    \"\"\"Load .npz/.npy; if 2D+, reduce via axis=0 sum; convert sparse to dense; return 1D ndarray.\"\"\"\n",
    "    if not os.path.exists(path):\n",
    "        return None\n",
    "    try:\n",
    "        obj = np.load(path, allow_pickle=True)\n",
    "        if isinstance(obj, np.lib.npyio.NpzFile):\n",
    "            key = \"data\" if \"data\" in obj.files else obj.files[0]\n",
    "            arr = obj[key]\n",
    "        else:\n",
    "            arr = obj  # .npy is already an ndarray\n",
    "\n",
    "        if sp.issparse(arr):\n",
    "            arr = arr.toarray()\n",
    "\n",
    "        if arr.ndim > 1:\n",
    "            arr = arr.sum(axis=0)  # aggregate to a 1D feature vector across layers\n",
    "\n",
    "        return np.asarray(arr).ravel()\n",
    "    except Exception as e:\n",
    "        print(f\"[skip] {os.path.basename(path)} -> {e}\")\n",
    "        return None\n",
    "\n",
    "def build_anndata(csv_path: str, data_dir: str, filter_matched: bool = False):\n",
    "    df = pd.read_csv(csv_path)\n",
    "\n",
    "    if filter_matched and {\"labels\", \"predictions\"}.issubset(df.columns):\n",
    "        df = df[df[\"labels\"] == df[\"predictions\"]]\n",
    "\n",
    "    X, obs_rows = [], []\n",
    "    missing = 0\n",
    "\n",
    "    for _, row in df.iterrows():\n",
    "        file_name = row[\"file_name\"]\n",
    "        label_id = row[\"labels\"]\n",
    "        path = os.path.join(data_dir, file_name)\n",
    "\n",
    "        arr = load_array(path)\n",
    "        if arr is None:\n",
    "            missing += 1\n",
    "            continue\n",
    "\n",
    "        X.append(arr)\n",
    "        obs_rows.append({\"file_name\": file_name, \"label_id\": label_id})\n",
    "\n",
    "    if not X:\n",
    "        return None, {\"n_rows\": 0, \"n_features\": 0, \"missing\": missing}\n",
    "\n",
    "    X = np.vstack(X)\n",
    "    obs = pd.DataFrame(obs_rows)\n",
    "    obs[\"cell_type\"] = obs[\"label_id\"].map(LABEL_MAP)\n",
    "\n",
    "    adata = ad.AnnData(X=X, obs=obs[[\"file_name\", \"cell_type\", \"label_id\"]])\n",
    "    return adata, {\"n_rows\": X.shape[0], \"n_features\": X.shape[1], \"missing\": missing}\n",
    "\n",
    "# ---------- Main ----------\n",
    "adata, info = build_anndata(CSV_PATH, DATA_DIR, filter_matched=FILTER_MATCHED)\n",
    "\n",
    "if adata is None or info[\"n_rows\"] == 0:\n",
    "    print(\"No matching data found. Cannot create AnnData.\")\n",
    "else:\n",
    "    print(f\"AnnData: {info['n_rows']} cells × {info['n_features']} features (skipped {info['missing']} missing/corrupted files)\")\n",
    "    # Optional save:\n",
    "    adata.write(f\"{output_dir}/tissue_test/tissue_test_data.h5ad\")"
   ]
  },
  {
   "cell_type": "code",
   "execution_count": 10,
   "id": "5d2467c6",
   "metadata": {},
   "outputs": [
    {
     "name": "stdout",
     "output_type": "stream",
     "text": [
      "AnnData: 54 cells × 256 features (skipped 0 missing/corrupted files)\n"
     ]
    },
    {
     "name": "stderr",
     "output_type": "stream",
     "text": [
      "/mnt/shared-storage-user/ma4agi-gpu/liangchaoqi/miniconda3/envs/scDNAm_GPT/lib/python3.10/site-packages/anndata/_core/aligned_df.py:68: ImplicitModificationWarning: Transforming to str index.\n",
      "  warnings.warn(\"Transforming to str index.\", ImplicitModificationWarning)\n"
     ]
    }
   ],
   "source": [
    "# === Minimal version: CSV -> array loading -> AnnData ===\n",
    "import os\n",
    "import numpy as np\n",
    "import pandas as pd\n",
    "import scipy.sparse as sp\n",
    "import anndata as ad\n",
    "\n",
    "\n",
    "# ---------- Config ----------\n",
    "CSV_PATH  = \"output_dir/cfDNA/cfDNA_inference_results.csv\"\n",
    "DATA_DIR  = \"output_dir/cfDNA/norm_attn_outputs\"\n",
    "FILTER_MATCHED = False  # If CSV has 'predictions' and you only want rows where labels==predictions, set True\n",
    "\n",
    "# Numeric label -> text label\n",
    "LABEL_MAP = {0: \"Normal Plasma\", 1: \"Colorectal Cancer Plasma\", 2: \"Colorectal Cancer Plasma\", \n",
    "3: \"Colorectal Cancer Plasma\", 4: \"Colorectal Cancer Plasma\", 5: \"Colorectal Cancer Plasma\"}\n",
    "\n",
    "# ---------- Utilities ----------\n",
    "def load_array(path: str):\n",
    "    \"\"\"Load .npz/.npy; if 2D+, reduce via axis=0 sum; convert sparse to dense; return 1D ndarray.\"\"\"\n",
    "    if not os.path.exists(path):\n",
    "        return None\n",
    "    try:\n",
    "        obj = np.load(path, allow_pickle=True)\n",
    "        if isinstance(obj, np.lib.npyio.NpzFile):\n",
    "            key = \"data\" if \"data\" in obj.files else obj.files[0]\n",
    "            arr = obj[key]\n",
    "        else:\n",
    "            arr = obj  # .npy is already an ndarray\n",
    "\n",
    "        if sp.issparse(arr):\n",
    "            arr = arr.toarray()\n",
    "\n",
    "        if arr.ndim > 1:\n",
    "            arr = arr.sum(axis=0)  # aggregate to a 1D feature vector across layers\n",
    "\n",
    "        return np.asarray(arr).ravel()\n",
    "    except Exception as e:\n",
    "        print(f\"[skip] {os.path.basename(path)} -> {e}\")\n",
    "        return None\n",
    "\n",
    "def build_anndata(csv_path: str, data_dir: str, filter_matched: bool = False):\n",
    "    df = pd.read_csv(csv_path)\n",
    "\n",
    "    if filter_matched and {\"labels\", \"predictions\"}.issubset(df.columns):\n",
    "        df = df[df[\"labels\"] == df[\"predictions\"]]\n",
    "\n",
    "    X, obs_rows = [], []\n",
    "    missing = 0\n",
    "\n",
    "    for _, row in df.iterrows():\n",
    "        file_name = row[\"file_name\"]\n",
    "        label_id = row[\"labels\"]\n",
    "        path = os.path.join(data_dir, file_name)\n",
    "\n",
    "        arr = load_array(path)\n",
    "        if arr is None:\n",
    "            missing += 1\n",
    "            continue\n",
    "\n",
    "        X.append(arr)\n",
    "        obs_rows.append({\"file_name\": file_name, \"label_id\": label_id})\n",
    "\n",
    "    if not X:\n",
    "        return None, {\"n_rows\": 0, \"n_features\": 0, \"missing\": missing}\n",
    "\n",
    "    X = np.vstack(X)\n",
    "    obs = pd.DataFrame(obs_rows)\n",
    "    obs[\"cell_type\"] = obs[\"label_id\"].map(LABEL_MAP)\n",
    "\n",
    "    adata = ad.AnnData(X=X, obs=obs[[\"file_name\", \"cell_type\", \"label_id\"]])\n",
    "    return adata, {\"n_rows\": X.shape[0], \"n_features\": X.shape[1], \"missing\": missing}\n",
    "\n",
    "# ---------- Main ----------\n",
    "adata, info = build_anndata(CSV_PATH, DATA_DIR, filter_matched=FILTER_MATCHED)\n",
    "\n",
    "if adata is None or info[\"n_rows\"] == 0:\n",
    "    print(\"No matching data found. Cannot create AnnData.\")\n",
    "else:\n",
    "    print(f\"AnnData: {info['n_rows']} cells × {info['n_features']} features (skipped {info['missing']} missing/corrupted files)\")\n",
    "    # Optional save:\n",
    "    adata.write(f\"{output_dir}/cfDNA/cfDNA_data.h5ad\")"
   ]
  },
  {
   "cell_type": "code",
   "execution_count": 8,
   "id": "b546380b",
   "metadata": {},
   "outputs": [
    {
     "data": {
      "image/png": "[encoded data removed]",
      "text/plain": [
       "<Figure size 640x480 with 1 Axes>"
      ]
     },
     "metadata": {},
     "output_type": "display_data"
    }
   ],
   "source": [
    "import scanpy as sc\n",
    "import matplotlib.pyplot as plt\n",
    "import pandas as pd\n",
    "\n",
    "# Suppress verbose logging\n",
    "sc.settings.verbosity = 0 \n",
    "\n",
    "# Load h5ad file\n",
    "adata = sc.read_h5ad(f\"{output_dir}/tissue_test/tissue_test_data.h5ad\")\n",
    "\n",
    "# Run PCA -> compute neighbors -> UMAP\n",
    "sc.pp.pca(adata, n_comps=20, random_state=42)\n",
    "sc.pp.neighbors(adata, n_pcs=20, n_neighbors=25, random_state=42)\n",
    "sc.tl.umap(adata, random_state=42)\n",
    "\n",
    "# Define palette\n",
    "palette_colon = {\n",
    "    \"Colorectal Normal Cell\": \"#4daf4a\",   # green\n",
    "    \"Colorectal Tumor Cell\": \"#e41a1c\",    # red\n",
    "}\n",
    "\n",
    "# Fix category order (保证颜色和图例顺序一致)\n",
    "adata.obs[\"cell_type\"] = pd.Categorical(\n",
    "    adata.obs[\"cell_type\"],\n",
    "    categories=[\"Colorectal Normal Cell\", \"Colorectal Tumor Cell\"],\n",
    "    ordered=True\n",
    ")\n",
    "\n",
    "# Plot UMAP with custom colors\n",
    "sc.pl.umap(\n",
    "    adata,\n",
    "    color=\"cell_type\",\n",
    "    size=100,\n",
    "    frameon=False,\n",
    "    palette=palette_colon\n",
    ")\n",
    "\n",
    "plt.show()\n"
   ]
  },
  {
   "cell_type": "code",
   "execution_count": 9,
   "id": "b0ed7ddc",
   "metadata": {},
   "outputs": [
    {
     "data": {
      "image/png": "[encoded data removed]",
      "text/plain": [
       "<Figure size 640x480 with 1 Axes>"
      ]
     },
     "metadata": {},
     "output_type": "display_data"
    }
   ],
   "source": [
    "import scanpy as sc\n",
    "import matplotlib.pyplot as plt\n",
    "\n",
    "# Suppress verbose logging\n",
    "sc.settings.verbosity = 0 \n",
    "\n",
    "# Load h5ad file\n",
    "adata = sc.read_h5ad(f\"{output_dir}/cfDNA/cfDNA_data.h5ad\")\n",
    "\n",
    "# Run PCA -> compute neighbors -> UMAP\n",
    "sc.pp.pca(adata, n_comps=32, random_state=42)\n",
    "sc.pp.neighbors(adata, n_pcs=32, n_neighbors=8, random_state=42)\n",
    "sc.tl.umap(adata, min_dist=0.001, random_state=42)\n",
    "\n",
    "# Define palette\n",
    "palette_colon = {\n",
    "    \"Normal Plasma\": \"#4daf4a\",   # green\n",
    "    \"Colorectal Cancer Plasma\": \"#e41a1c\",    # red\n",
    "}\n",
    "\n",
    "# Plot UMAP with custom colors\n",
    "sc.pl.umap(\n",
    "    adata,\n",
    "    color=\"cell_type\",\n",
    "    size=100,\n",
    "    frameon=False,\n",
    "    palette=palette_colon\n",
    ")\n",
    "\n",
    "plt.show()\n"
   ]
  },
  {
   "cell_type": "markdown",
   "id": "d331fe49",
   "metadata": {},
   "source": [
    "# Step 5: Comparison\n",
    "\n",
    "##### In the comparison of CRC tumor progression prediction, the Normal sample SRR11616089 was predicted by both MethylBERT and scDNAm-GPT to have a high risk of tumor progression. Since this result was inconsistent with its group label, scDNAm-GPT identified it as an outlier. To avoid the influence of this outlier on the baseline, the Normal Line was defined using the second-highest prediction value within the Normal group. Subsequently, the predictions from MethylBERT and scDNAm-GPT were scaled to the same numerical range to enable direct comparison."
   ]
  },
  {
   "cell_type": "code",
   "execution_count": null,
   "id": "5e1c126e",
   "metadata": {},
   "outputs": [
    {
     "name": "stderr",
     "output_type": "stream",
     "text": [
      "/tmp/ipykernel_607587/4020242808.py:56: FutureWarning: \n",
      "\n",
      "Setting a gradient palette using color= is deprecated and will be removed in v0.14.0. Set `palette='dark:black'` for the same effect.\n",
      "\n",
      "  sns.stripplot(x=y, y=predictions, hue=y, color='black', alpha=0.55, jitter=True, size=3, legend=False)\n"
     ]
    },
    {
     "data": {
      "image/png": "[encoded data removed]",
      "text/plain": [
       "<Figure size 480x400 with 1 Axes>"
      ]
     },
     "metadata": {},
     "output_type": "display_data"
    }
   ],
   "source": [
    "import pandas as pd\n",
    "import matplotlib.pyplot as plt\n",
    "import seaborn as sns\n",
    "from sklearn.linear_model import LinearRegression\n",
    "import numpy as np\n",
    "import matplotlib as mpl\n",
    "mpl.rcParams['pdf.fonttype'] = 42\n",
    "\n",
    "np.random.seed(42)  # Set global random seed\n",
    "\n",
    "# Set Nature style\n",
    "sns.set_theme(style='white')  # Remove grey background\n",
    "plt.rcParams.update({\n",
    "    'font.size': 12,\n",
    "    'axes.linewidth': 1.2,\n",
    "    'axes.labelsize': 14,\n",
    "    'xtick.labelsize': 12,\n",
    "    'ytick.labelsize': 12,\n",
    "    'xtick.major.size': 5,\n",
    "    'ytick.major.size': 5,\n",
    "    'legend.fontsize': 12,\n",
    "    'pdf.fonttype': 42  # Prevent PDF font embedding issues\n",
    "})\n",
    "\n",
    "# Read data\n",
    "df = pd.read_csv('tumor_detection/cfDNA_data/methylbert.csv', header=0, sep=',')\n",
    "\n",
    "# Take the log of predictions (with a small constant to avoid log(0))\n",
    "df['log_pred'] = np.log(df['pred'])\n",
    "\n",
    "# Extract log_pred and label\n",
    "X = df['log_pred'].values.reshape(-1, 1)\n",
    "y = df['label'].values\n",
    "\n",
    "# Scale for Comparison\n",
    "w = 0.82665467\n",
    "b = 4.221992007528449\n",
    "X = X.ravel()\n",
    "predictions = X * w + b\n",
    "\n",
    "# Define custom color palette using numeric keys\n",
    "palette = {\n",
    "    0: '#4daf4a',  # Green\n",
    "    1: '#ff7f00',  # Orange\n",
    "    2: '#377eb8',  # Blue\n",
    "    3: '#8b4513',  # Brown\n",
    "    4: '#ff6347',  # Tomato (Orange-ish)\n",
    "    5: '#e41a1c'   # Red\n",
    "}\n",
    "\n",
    "# Create the plot\n",
    "plt.figure(figsize=(4.8, 4))\n",
    "\n",
    "# Adjust width of boxplot for a narrower appearance\n",
    "sns.boxplot(x=y, y=predictions, hue=y, palette=palette, fliersize=2.5, linewidth=1.2, showfliers=False, width=0.62, legend=False)\n",
    "sns.stripplot(x=y, y=predictions, hue=y, color='black', alpha=0.55, jitter=True, size=3, legend=False)\n",
    "\n",
    "plt.axhline(y=0, color='gray', linestyle='--', linewidth=1.2)\n",
    "plt.text(x=4.22, y=-0.36, s='Normal Line', color='gray', fontsize=11, ha='left', fontstyle='italic')\n",
    "\n",
    "# x-axis label mapping\n",
    "label_mapping = {\n",
    "    0: 'Normal',\n",
    "    1: '0',\n",
    "    2: 'I',\n",
    "    3: 'II',\n",
    "    4: 'III',\n",
    "    5: 'IV'\n",
    "}\n",
    "plt.xticks(ticks=list(label_mapping.keys()), labels=list(label_mapping.values()))\n",
    "\n",
    "# Set axis labels and title\n",
    "plt.xlabel('Colorectal Cancer Group', labelpad=2)\n",
    "plt.ylabel('Prediction of Tumor Progression', labelpad=1)\n",
    "plt.title('Zero-Shot Boxplot of Colorectal Cohort Plasma cfDNA\\nTumor Stage Prediction by MethylBERT (Need Reference)', fontsize=10, pad=3)\n",
    "\n",
    "plt.ylim(-1.5, 5)\n",
    "\n",
    "# Add a full frame around the plot (box around the axes)\n",
    "plt.gca().spines['top'].set_linewidth(1.2)\n",
    "plt.gca().spines['right'].set_linewidth(1.2)\n",
    "plt.gca().spines['bottom'].set_linewidth(1.2)\n",
    "plt.gca().spines['left'].set_linewidth(1.2)\n",
    "\n",
    "# Tight layout for better spacing\n",
    "plt.tight_layout()\n",
    "\n",
    "# Show the plot\n",
    "plt.show()\n"
   ]
  },
  {
   "cell_type": "code",
   "execution_count": null,
   "id": "59e94411",
   "metadata": {},
   "outputs": [
    {
     "name": "stderr",
     "output_type": "stream",
     "text": [
      "/tmp/ipykernel_607587/2043019309.py:58: FutureWarning: \n",
      "\n",
      "Setting a gradient palette using color= is deprecated and will be removed in v0.14.0. Set `palette='dark:black'` for the same effect.\n",
      "\n",
      "  sns.stripplot(x=y, y=predictions, hue=y, color='black', alpha=0.55, jitter=True, size=3, legend=False)\n"
     ]
    },
    {
     "data": {
      "image/png": "[encoded data removed]",
      "text/plain": [
       "<Figure size 480x400 with 1 Axes>"
      ]
     },
     "metadata": {},
     "output_type": "display_data"
    }
   ],
   "source": [
    "import pandas as pd\n",
    "import numpy as np\n",
    "from sklearn.linear_model import LinearRegression\n",
    "import matplotlib.pyplot as plt\n",
    "import seaborn as sns\n",
    "from scipy.special import expit  # sigmoid function\n",
    "import matplotlib as mpl\n",
    "mpl.rcParams['pdf.fonttype'] = 42\n",
    "\n",
    "np.random.seed(0)  # Set global random seed\n",
    "\n",
    "# Set Nature style\n",
    "sns.set_theme(style='white')  # Remove grey background\n",
    "plt.rcParams.update({\n",
    "    'font.size': 12,\n",
    "    'axes.linewidth': 1.2,\n",
    "    'axes.labelsize': 14,\n",
    "    'xtick.labelsize': 12,\n",
    "    'ytick.labelsize': 12,\n",
    "    'xtick.major.size': 5,\n",
    "    'ytick.major.size': 5,\n",
    "    'legend.fontsize': 12,\n",
    "    'pdf.fonttype': 42  # Prevent PDF font embedding issues\n",
    "})\n",
    "\n",
    "# Read data\n",
    "df = pd.read_csv('output_dir/cfDNA/cfDNA_inference_results.csv')\n",
    "\n",
    "# Process logits column, extract 2nd value and apply sigmoid\n",
    "X_raw = np.array([np.fromstring(p.strip('[]'), sep=' ')[1:2] for p in df['logits']])\n",
    "X = expit(X_raw)  # Apply sigmoid activation\n",
    "y = df['labels'].values\n",
    "\n",
    "# Scale for Comparison, \n",
    "w = 246.53292457\n",
    "b = -54.51874732791667\n",
    "X = X.ravel()\n",
    "predictions = X * w + b\n",
    "\n",
    "\n",
    "# Define custom color palette using numeric keys\n",
    "palette = {\n",
    "    0: '#4daf4a',  # Green\n",
    "    1: '#ff7f00',  # Orange\n",
    "    2: '#377eb8',  # Blue\n",
    "    3: '#8b4513',  # Brown\n",
    "    4: '#ff6347',  # Tomato (Orange-ish)\n",
    "    5: '#e41a1c'   # Red\n",
    "}\n",
    "\n",
    "# Create the plot\n",
    "plt.figure(figsize=(4.8, 4))\n",
    "plt.axhline(y=0, color='gray', linestyle='--', linewidth=1.2)\n",
    "plt.text(x=4.22, y=-0.36, s='Normal Line', color='gray', fontsize=11, ha='left', fontstyle='italic')\n",
    "\n",
    "# Adjust width of boxplot for a narrower appearance\n",
    "sns.boxplot(x=y, y=predictions, hue=y, palette=palette, fliersize=2.5, linewidth=1.2, showfliers=False, width=0.62, legend=False)\n",
    "sns.stripplot(x=y, y=predictions, hue=y, color='black', alpha=0.55, jitter=True, size=3, legend=False)\n",
    "\n",
    "# x-axis label mapping\n",
    "label_mapping = {\n",
    "    0: 'Normal',\n",
    "    1: '0',\n",
    "    2: 'I',\n",
    "    3: 'II',\n",
    "    4: 'III',\n",
    "    5: 'IV'\n",
    "}\n",
    "plt.xticks(ticks=list(label_mapping.keys()), labels=list(label_mapping.values()))\n",
    "\n",
    "# Set labels and title\n",
    "plt.xlabel('Colorectal Cancer Group', labelpad=2)\n",
    "plt.ylabel('Prediction of Tumor Progression', labelpad=1)\n",
    "plt.title('Zero-Shot Boxplot of Colorectal Cohort Plasma cfDNA\\nTumor Stage Prediction by scDNAm-GPT (Reference Free)', fontsize=10, pad=3)\n",
    "\n",
    "plt.ylim(-1.5, 5)\n",
    "# sns.despine()\n",
    "\n",
    "# Add a full frame around the plot (box around the axes)\n",
    "plt.gca().spines['top'].set_linewidth(1.2)\n",
    "plt.gca().spines['right'].set_linewidth(1.2)\n",
    "plt.gca().spines['bottom'].set_linewidth(1.2)\n",
    "plt.gca().spines['left'].set_linewidth(1.2)\n",
    "\n",
    "plt.tight_layout()\n",
    "plt.show()\n"
   ]
  },
  {
   "cell_type": "code",
   "execution_count": null,
   "id": "3b7431c0",
   "metadata": {},
   "outputs": [],
   "source": []
  }
 ],
 "metadata": {
  "kernelspec": {
   "display_name": "scDNAm_GPT",
   "language": "python",
   "name": "python3"
  },
  "language_info": {
   "codemirror_mode": {
    "name": "ipython",
    "version": 3
   },
   "file_extension": ".py",
   "mimetype": "text/x-python",
   "name": "python",
   "nbconvert_exporter": "python",
   "pygments_lexer": "ipython3",
   "version": "3.10.18"
  }
 },
 "nbformat": 4,
 "nbformat_minor": 5
}
